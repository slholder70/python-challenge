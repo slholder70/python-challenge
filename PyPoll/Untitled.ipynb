{
 "cells": [
  {
   "cell_type": "code",
   "execution_count": 2,
   "metadata": {},
   "outputs": [],
   "source": [
    "import csv\n",
    "import pandas as pd\n",
    "import numpy as np\n"
   ]
  },
  {
   "cell_type": "code",
   "execution_count": 3,
   "metadata": {},
   "outputs": [],
   "source": [
    "file1 = 'raw_data/election_data_1.csv'\n",
    "\n",
    "\n",
    "file2 = 'raw_data/election_data_2.csv'"
   ]
  },
  {
   "cell_type": "code",
   "execution_count": 15,
   "metadata": {},
   "outputs": [
    {
     "name": "stdout",
     "output_type": "stream",
     "text": [
      "None\n"
     ]
    }
   ],
   "source": [
    "mylist1 , mylist2, mylist3 = [], [], []\n",
    "\n",
    "\n",
    "with open(file1, newline ='') as edata1:\n",
    "    \n",
    "    #CSV reader with delimiter and varable holding contents\n",
    "    \n",
    "    csvreader = csv.reader(edata1, delimiter = ',')\n",
    "#   print(csvreader)\n",
    "    next(csvreader)\n",
    "    for row in csvreader:\n",
    "        mylist = []\n",
    "        mylist1 = mylist.append(row[2])\n",
    "    \n",
    "print(mylist1)"
   ]
  },
  {
   "cell_type": "code",
   "execution_count": null,
   "metadata": {},
   "outputs": [],
   "source": []
  }
 ],
 "metadata": {
  "kernelspec": {
   "display_name": "Python 3",
   "language": "python",
   "name": "python3"
  },
  "language_info": {
   "codemirror_mode": {
    "name": "ipython",
    "version": 3
   },
   "file_extension": ".py",
   "mimetype": "text/x-python",
   "name": "python",
   "nbconvert_exporter": "python",
   "pygments_lexer": "ipython3",
   "version": "3.6.4"
  }
 },
 "nbformat": 4,
 "nbformat_minor": 2
}
